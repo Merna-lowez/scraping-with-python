{
 "cells": [
  {
   "cell_type": "code",
   "execution_count": 13,
   "id": "84b42b97",
   "metadata": {},
   "outputs": [],
   "source": [
    "import requests\n",
    "from bs4 import BeautifulSoup \n",
    "import csv\n",
    "from itertools import zip_longest"
   ]
  },
  {
   "cell_type": "code",
   "execution_count": 14,
   "id": "36cfc383",
   "metadata": {},
   "outputs": [],
   "source": [
    "result = requests.get(\"https://books.toscrape.com/\")\n",
    "scr = result.content"
   ]
  },
  {
   "cell_type": "code",
   "execution_count": 15,
   "id": "1ca3808e",
   "metadata": {},
   "outputs": [],
   "source": [
    "soup = BeautifulSoup(scr,\"lxml\")\n",
    "#print(soup.prettify())\n"
   ]
  },
  {
   "cell_type": "code",
   "execution_count": 16,
   "id": "f3f21ac6",
   "metadata": {},
   "outputs": [],
   "source": [
    "book_title=[]\n",
    "price=[]\n",
    "links=[]"
   ]
  },
  {
   "cell_type": "code",
   "execution_count": 17,
   "id": "411d6975",
   "metadata": {},
   "outputs": [],
   "source": [
    "book_titles=soup.find_all(\"h3\")"
   ]
  },
  {
   "cell_type": "code",
   "execution_count": 18,
   "id": "f7863d38",
   "metadata": {},
   "outputs": [],
   "source": [
    "title_selector = \".product_pod h3 a\"\n",
    "titles = soup.select(title_selector)\n",
    "#titles"
   ]
  },
  {
   "cell_type": "code",
   "execution_count": 19,
   "id": "c0ea8800",
   "metadata": {},
   "outputs": [],
   "source": [
    "prices=soup.find_all(\"p\",{\"price_color\"})\n",
    "#prices"
   ]
  },
  {
   "cell_type": "code",
   "execution_count": 20,
   "id": "1a20e202",
   "metadata": {},
   "outputs": [],
   "source": [
    "ratings=soup.find_all(\"p\",{\"class\":\"star-rating\"})\n",
    "#ratings"
   ]
  },
  {
   "cell_type": "code",
   "execution_count": 21,
   "id": "9f354fc1",
   "metadata": {},
   "outputs": [],
   "source": [
    "rating_mappings = {\n",
    "\t\"One\":   \"*\",\n",
    "\t\"Two\":   \"* *\",\n",
    "\t\"Three\": \"* * *\",\n",
    "\t\"Four\":  \"* * * *\",\n",
    "\t\"Five\":  \"* * * * *\"\n",
    "}\n"
   ]
  },
  {
   "cell_type": "code",
   "execution_count": 22,
   "id": "0148abe5",
   "metadata": {},
   "outputs": [],
   "source": [
    "def get_rating(tag):\n",
    "    for term, rating in rating_mappings.items():\n",
    "        if term in tag[\"class\"]:\n",
    "            return rating"
   ]
  },
  {
   "cell_type": "code",
   "execution_count": 23,
   "id": "90672cd3",
   "metadata": {},
   "outputs": [],
   "source": [
    "for i in range(len(prices)):\n",
    "    price.append(prices[i].text)\n",
    "    links.append(book_titles[i].find(\"a\").attrs[\"href\"])\n",
    "    \n",
    "    \n",
    "#print(price)    "
   ]
  },
  {
   "cell_type": "code",
   "execution_count": 24,
   "id": "a710943f",
   "metadata": {},
   "outputs": [],
   "source": [
    "with open(\"books web.csv\", \"w\", encoding=\"utf-8\") as book_file:\n",
    "    wr = csv.writer(book_file)\n",
    "    wr.writerow([\"book title\",\"prices\",\"ratings\",\"links\"])   \n",
    "    for price, title, rating ,link in zip(price, titles, ratings,links):\n",
    "        book_file.write(f\"{title['title']},{price},{get_rating(rating)},{link}\\n\")\n",
    "        "
   ]
  },
  {
   "cell_type": "code",
   "execution_count": null,
   "id": "b78a1390",
   "metadata": {},
   "outputs": [],
   "source": []
  },
  {
   "cell_type": "code",
   "execution_count": null,
   "id": "88dbdf28",
   "metadata": {},
   "outputs": [],
   "source": []
  },
  {
   "cell_type": "code",
   "execution_count": null,
   "id": "df025fc3",
   "metadata": {},
   "outputs": [],
   "source": []
  },
  {
   "cell_type": "code",
   "execution_count": null,
   "id": "05ab9c60",
   "metadata": {},
   "outputs": [],
   "source": []
  }
 ],
 "metadata": {
  "kernelspec": {
   "display_name": "Python 3",
   "language": "python",
   "name": "python3"
  },
  "language_info": {
   "codemirror_mode": {
    "name": "ipython",
    "version": 3
   },
   "file_extension": ".py",
   "mimetype": "text/x-python",
   "name": "python",
   "nbconvert_exporter": "python",
   "pygments_lexer": "ipython3",
   "version": "3.8.8"
  }
 },
 "nbformat": 4,
 "nbformat_minor": 5
}
