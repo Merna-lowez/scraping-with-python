{
 "cells": [
  {
   "cell_type": "code",
   "execution_count": 1,
   "id": "8c9258f0",
   "metadata": {},
   "outputs": [],
   "source": [
    "from bs4 import BeautifulSoup\n",
    "import requests\n",
    "import os"
   ]
  },
  {
   "cell_type": "code",
   "execution_count": 2,
   "id": "4704657e",
   "metadata": {},
   "outputs": [],
   "source": [
    "url = \"https://www.pinterest.com/boyce_mail/scrap-flowers?lp=true\"\n",
    "r = requests.get(url)\n",
    "soup = BeautifulSoup(r.content,\"html.parser\")\n",
    "#soup"
   ]
  },
  {
   "cell_type": "code",
   "execution_count": 3,
   "id": "9c9c2e8e",
   "metadata": {},
   "outputs": [],
   "source": [
    "images = soup.find_all('img')\n",
    "#images"
   ]
  },
  {
   "cell_type": "code",
   "execution_count": 4,
   "id": "3105eda2",
   "metadata": {},
   "outputs": [],
   "source": [
    "for index,image in enumerate(images):\n",
    "    name='view' + str(index+1)\n",
    "    link=image[\"src\"]\n",
    "    with open(name +'.jpg','wb') as f:\n",
    "        im = requests.get(link)\n",
    "        f.write(im.content)"
   ]
  },
  {
   "cell_type": "code",
   "execution_count": null,
   "id": "23819119",
   "metadata": {},
   "outputs": [],
   "source": []
  }
 ],
 "metadata": {
  "kernelspec": {
   "display_name": "Python 3",
   "language": "python",
   "name": "python3"
  },
  "language_info": {
   "codemirror_mode": {
    "name": "ipython",
    "version": 3
   },
   "file_extension": ".py",
   "mimetype": "text/x-python",
   "name": "python",
   "nbconvert_exporter": "python",
   "pygments_lexer": "ipython3",
   "version": "3.8.8"
  }
 },
 "nbformat": 4,
 "nbformat_minor": 5
}
